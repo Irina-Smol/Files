{
  "nbformat": 4,
  "nbformat_minor": 0,
  "metadata": {
    "colab": {
      "provenance": []
    },
    "kernelspec": {
      "name": "python3",
      "display_name": "Python 3"
    },
    "language_info": {
      "name": "python"
    }
  },
  "cells": [
    {
      "cell_type": "markdown",
      "source": [
        "# **Closure (Замыкания)**\n",
        "Замыкание- ситуация, при которой вложенная функция пользуется переменными, которые не объявлены в теле этой (вложенной) функции"
      ],
      "metadata": {
        "id": "CiR3KA6NqS3o"
      }
    },
    {
      "cell_type": "code",
      "execution_count": 17,
      "metadata": {
        "id": "q0DujcjlqQvs"
      },
      "outputs": [],
      "source": [
        "def main_func(value):\n",
        "  name = value # строку можно не писать\n",
        "  def inner_func():\n",
        "    return f'hello, {name}'\n",
        "  return inner_func"
      ]
    },
    {
      "cell_type": "code",
      "source": [
        "req1 = main_func('Ira')\n",
        "print(req1())\n",
        "\n",
        "req2 = main_func('Misha')\n",
        "print(req2())"
      ],
      "metadata": {
        "colab": {
          "base_uri": "https://localhost:8080/"
        },
        "id": "9DxG0AOXwOw0",
        "outputId": "7f49e339-07d1-43bb-b814-5618e54304b6"
      },
      "execution_count": 20,
      "outputs": [
        {
          "output_type": "stream",
          "name": "stdout",
          "text": [
            "hello, Ira\n",
            "hello, Misha\n"
          ]
        }
      ]
    },
    {
      "cell_type": "code",
      "source": [
        "def adder(value):\n",
        "  def inner(a):\n",
        "    return value + a \n",
        "\n",
        "  return inner"
      ],
      "metadata": {
        "id": "CPLUcGEV4Pd3"
      },
      "execution_count": 21,
      "outputs": []
    },
    {
      "cell_type": "code",
      "source": [
        "req3 = adder(2) # значение value\n",
        "print(req3(5)) # передается значение а и происходит сложение\n",
        "\n",
        "req4 = adder(10) \n",
        "print(req4(3))"
      ],
      "metadata": {
        "colab": {
          "base_uri": "https://localhost:8080/"
        },
        "id": "lB8rRqGz4gLY",
        "outputId": "ca0b1a29-e63f-4cb0-dd12-eb1760675e02"
      },
      "execution_count": 26,
      "outputs": [
        {
          "output_type": "stream",
          "name": "stdout",
          "text": [
            "7\n",
            "13\n"
          ]
        }
      ]
    },
    {
      "cell_type": "code",
      "source": [
        "def counter():\n",
        "  count = 0\n",
        "  def inner():\n",
        "    nonlocal count # Имена, перечисленные в инструкции nonlocal, должны ссылаться на ранее существовавшие переменные в охватывающей области. \n",
        "                      # применяется во вложенных функциях, когда надо прикрепить идентификатор за переменной или параметром окружающей внешней функции.\n",
        "    count += 1\n",
        "    return count\n",
        "\n",
        "  return inner"
      ],
      "metadata": {
        "id": "wHv---8C5Yvc"
      },
      "execution_count": 36,
      "outputs": []
    },
    {
      "cell_type": "code",
      "source": [
        "q = counter()\n",
        "print(q())\n",
        "print(q())\n",
        "print(q())\n",
        "print(q())\n",
        "\n",
        "r = counter()\n",
        "print(r())\n",
        "print(r())"
      ],
      "metadata": {
        "colab": {
          "base_uri": "https://localhost:8080/"
        },
        "id": "vj7-skYg5vQt",
        "outputId": "9897e9da-4064-42c6-9509-fcd368e644c0"
      },
      "execution_count": 37,
      "outputs": [
        {
          "output_type": "stream",
          "name": "stdout",
          "text": [
            "1\n",
            "2\n",
            "3\n",
            "4\n",
            "1\n",
            "2\n"
          ]
        }
      ]
    },
    {
      "cell_type": "code",
      "source": [
        "def average_numbers():\n",
        "  numbers = []\n",
        "  def inner(number):\n",
        "    numbers.append(number)\n",
        "    print(numbers)\n",
        "    return sum(numbers) / len(numbers)\n",
        "  \n",
        "  return inner"
      ],
      "metadata": {
        "id": "NUKKdUUo7DXh"
      },
      "execution_count": 42,
      "outputs": []
    },
    {
      "cell_type": "code",
      "source": [
        "req5 = average_numbers()\n",
        "print(req5(5))\n",
        "print(req5(10))"
      ],
      "metadata": {
        "colab": {
          "base_uri": "https://localhost:8080/"
        },
        "id": "hNdgLoF9BKNC",
        "outputId": "03ef07cd-066a-4805-ae4b-1b2c8652b099"
      },
      "execution_count": 43,
      "outputs": [
        {
          "output_type": "stream",
          "name": "stdout",
          "text": [
            "[5]\n",
            "5.0\n",
            "[5, 10]\n",
            "7.5\n"
          ]
        }
      ]
    },
    {
      "cell_type": "code",
      "source": [
        "def average_numbers():\n",
        "  summa = 0\n",
        "  count = 0\n",
        "\n",
        "  def inner(number):\n",
        "    nonlocal summa\n",
        "    nonlocal count\n",
        "    summa = summa + number\n",
        "    count += 1\n",
        "\n",
        "    return summa / count\n",
        "  \n",
        "  return inner"
      ],
      "metadata": {
        "id": "ND5kzflCCIi_"
      },
      "execution_count": 44,
      "outputs": []
    },
    {
      "cell_type": "code",
      "source": [
        "req5 = average_numbers()\n",
        "print(req5(5))\n",
        "print(req5(10))"
      ],
      "metadata": {
        "colab": {
          "base_uri": "https://localhost:8080/"
        },
        "id": "ZF56TawTCubH",
        "outputId": "993b7550-8cde-4863-e871-884c175eeba1"
      },
      "execution_count": 45,
      "outputs": [
        {
          "output_type": "stream",
          "name": "stdout",
          "text": [
            "5.0\n",
            "7.5\n"
          ]
        }
      ]
    },
    {
      "cell_type": "code",
      "source": [
        "from datetime import datetime\n",
        "def timer():\n",
        "  start = datetime.now()\n",
        "\n",
        "  def inner():\n",
        "    return datetime.now() - start\n",
        "\n",
        "  return inner"
      ],
      "metadata": {
        "id": "RY508qh4C4dq"
      },
      "execution_count": 47,
      "outputs": []
    },
    {
      "cell_type": "code",
      "source": [
        "a = timer()\n",
        "print(a())\n",
        "w = timer()\n",
        "print(w())"
      ],
      "metadata": {
        "colab": {
          "base_uri": "https://localhost:8080/"
        },
        "id": "5CatygueDQvY",
        "outputId": "032d7d2b-ba02-45b0-80c7-d03606c53195"
      },
      "execution_count": 57,
      "outputs": [
        {
          "output_type": "stream",
          "name": "stdout",
          "text": [
            "0:00:00.000046\n",
            "0:00:00.000041\n"
          ]
        }
      ]
    },
    {
      "cell_type": "code",
      "source": [
        "def add(a, b):\n",
        "  return a + b\n",
        "\n",
        "def counter(func):\n",
        "  count = 0\n",
        "  def inner(*args, **kwargs):\n",
        "    nonlocal count\n",
        "    count += 1\n",
        "    print(f\"функция {func.__name__} вызывалась {count} кол-во раз\")\n",
        "    return func(*args, **kwargs)\n",
        "    \n",
        "  return inner\n"
      ],
      "metadata": {
        "id": "zmTFhx8ZmCJm"
      },
      "execution_count": 1,
      "outputs": []
    },
    {
      "cell_type": "code",
      "source": [
        "w = counter(add)\n",
        "print(w(20, 10))\n",
        "print(w(5, 3))"
      ],
      "metadata": {
        "colab": {
          "base_uri": "https://localhost:8080/"
        },
        "id": "ch0lrWu8m4t2",
        "outputId": "760017a3-3980-429e-b93b-465e8eaada6a"
      },
      "execution_count": 3,
      "outputs": [
        {
          "output_type": "stream",
          "name": "stdout",
          "text": [
            "функция add вызывалась 1 кол-во раз\n",
            "30\n",
            "функция add вызывалась 2 кол-во раз\n",
            "8\n"
          ]
        }
      ]
    }
  ]
}